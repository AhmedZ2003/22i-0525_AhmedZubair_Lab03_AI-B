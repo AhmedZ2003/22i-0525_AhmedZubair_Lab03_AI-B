{
  "cells": [
    {
      "cell_type": "markdown",
      "metadata": {
        "id": "DR3RvooloecS"
      },
      "source": [
        "# Lab Task 01"
      ]
    },
    {
      "cell_type": "markdown",
      "metadata": {
        "id": "Oi-yFvItoWzc"
      },
      "source": [
        "Reshape a 1D NumPy array into a 2D array with dimensions (3, 4).\n",
        "\n",
        "Concatenate two NumPy arrays horizontally and vertically."
      ]
    },
    {
      "cell_type": "code",
      "execution_count": 6,
      "metadata": {
        "colab": {
          "base_uri": "https://localhost:8080/"
        },
        "id": "c379PMYOobDK",
        "outputId": "dcb64981-b4bc-4b00-b7f2-3994d383b101"
      },
      "outputs": [
        {
          "name": "stdout",
          "output_type": "stream",
          "text": [
            "Arr 1: [12  2  5  2  2 20 18 23  1  6 23  4]\n",
            "Arr 2: [[12  2  5  2]\n",
            " [ 2 20 18 23]\n",
            " [ 1  6 23  4]]\n",
            "Horizontal: [0 1 2 3 4 0 1 2 3 4]\n",
            "\n",
            "\n",
            "Vertical: [[0]\n",
            " [1]\n",
            " [2]\n",
            " [3]\n",
            " [4]\n",
            " [0]\n",
            " [1]\n",
            " [2]\n",
            " [3]\n",
            " [4]]\n",
            "Other form of Vertical Concatenation: \n",
            "[[0 1 2 3 4]\n",
            " [0 1 2 3 4]]\n"
          ]
        }
      ],
      "source": [
        "#code here\n",
        "import numpy as np\n",
        "arr=np.random.randint(0,24,12)\n",
        "arr2=arr.reshape(3,4)\n",
        "print(\"Arr 1: {}\".format(arr))\n",
        "print(\"Arr 2: {}\".format(arr2))\n",
        "\n",
        "arr=np.arange(5)\n",
        "arr2=np.arange(5)\n",
        "horizontal=np.concatenate((arr,arr2))\n",
        "print(\"Horizontal: {}\".format(horizontal))\n",
        "print(\"\\n\")\n",
        "vertical=np.concatenate((arr.reshape(-1,1),arr2.reshape(-1,1)))\n",
        "print(\"Vertical: {}\".format(vertical))\n",
        "\n",
        "vertical2=np.concatenate((arr,arr2)).reshape(2,-1)\n",
        "print(\"Other form of Vertical Concatenation: \\n{}\".format(vertical2))\n"
      ]
    },
    {
      "cell_type": "markdown",
      "metadata": {
        "id": "Dv9DtQ3jp6mq"
      },
      "source": [
        "# Lab Task 02"
      ]
    },
    {
      "cell_type": "markdown",
      "metadata": {
        "id": "2i6-zm_1ZAdn"
      },
      "source": [
        "\n",
        "## Email Classification\n",
        "Develope a tool which will classify an email.\n",
        "\n",
        "### Tasks:\n",
        "* Create a function classify_emails that takes a list of emails as an argument.\n",
        "* Inside the function, categorize emails into \"Important,\" \"Promotions,\" and \"Spam\" based on keywords and content analysis.\n",
        "* Loop through the emails and identify keywords to determine their category.\n",
        "* If an email contains keywords indicating importance, assign it as \"Important.\"\n",
        "* If an email contains keywords related to promotions or deals, assign it as \"Promotions.\"\n",
        "* If an email is suspected to be spam based on certain keywords or patterns, assign it as \"Spam.\"\n",
        "* Return three lists of emails for each category.\n",
        "* Print the lists."
      ]
    },
    {
      "cell_type": "code",
      "execution_count": 14,
      "metadata": {
        "colab": {
          "base_uri": "https://localhost:8080/"
        },
        "id": "SnCGPkq-o84Z",
        "outputId": "4bc16fd0-27fa-4976-ec48-fb99bfaa6c59"
      },
      "outputs": [
        {
          "name": "stdout",
          "output_type": "stream",
          "text": [
            "Important Emails: \n",
            "['Important announcement! Deadline due tomorrow']\n",
            "Promotional Emails: \n",
            "['Sale starting from 20th February', '15% discount on all clothes']\n",
            "Spam Emails: \n",
            "[\"You've won a Free Iphone 15\"]\n"
          ]
        }
      ],
      "source": [
        "#code here\n",
        "def classify_emails(emails):\n",
        "  imp=['important','urgent']\n",
        "  promo=['offer','discount','sale']\n",
        "  spam=['lottery','free']\n",
        "\n",
        "  imp_emails=[]\n",
        "  promo_emails=[]\n",
        "  spam_emails=[]\n",
        "\n",
        "  for email in emails:\n",
        "    is_imp=False\n",
        "    is_promo=False\n",
        "    is_spam=False\n",
        "    email_lower=email.lower()\n",
        "    for word in imp:\n",
        "      if word in email_lower:\n",
        "        is_imp=True\n",
        "        break\n",
        "    for word in promo:\n",
        "      if word in email_lower:\n",
        "        is_promo=True\n",
        "        break\n",
        "    for word in spam:\n",
        "      if word in email_lower:\n",
        "        is_spam=True\n",
        "        break\n",
        "\n",
        "    if is_imp:\n",
        "      imp_emails.append(email)\n",
        "    elif is_promo:\n",
        "      promo_emails.append(email)\n",
        "    elif is_spam:\n",
        "      spam_emails.append(email)\n",
        "\n",
        "  return imp_emails,promo_emails,spam_emails\n",
        "\n",
        "\n",
        "emails=[\"You've won a Free Iphone 15\",\n",
        "        \"Sale starting from 20th February\",\n",
        "        \"Important announcement! Deadline due tomorrow\",\n",
        "        \"15% discount on all clothes\"]\n",
        "\n",
        "imp_emails,promo_emails,spam_emails=classify_emails(emails)\n",
        "print(\"Important Emails: \\n{}\".format(imp_emails))\n",
        "print(\"Promotional Emails: \\n{}\".format(promo_emails))\n",
        "print(\"Spam Emails: \\n{}\".format(spam_emails))"
      ]
    },
    {
      "cell_type": "markdown",
      "metadata": {
        "id": "amtV-GLWpCC7"
      },
      "source": [
        "# Lab Task 03"
      ]
    },
    {
      "cell_type": "markdown",
      "metadata": {
        "id": "M2Zg-XsUpC72"
      },
      "source": [
        "## English-Spanish Dictionary\n",
        "You are creating a basic English-Spanish dictionary that allows users to look up English words and find their Spanish translations.\n",
        "\n",
        "\n",
        "### Tasks\n",
        "* Create a dictionary where English words are keys and their Spanish translations are values.\n",
        "* Ask the user to input an English word.\n",
        "* Check if the word exists in the dictionary.\n",
        "* If the word exists, print its Spanish translation.\n",
        "* If the word does not exist, inform the user that the translation is not available.\n",
        "* Implement a loop that allows the user to keep looking up words until they choose to exit.\n"
      ]
    },
    {
      "cell_type": "code",
      "execution_count": 16,
      "metadata": {
        "colab": {
          "base_uri": "https://localhost:8080/"
        },
        "id": "7RKtYbMZpJdh",
        "outputId": "536b17ec-4156-4a1a-9bd3-3ead0ea69d15"
      },
      "outputs": [
        {
          "name": "stdout",
          "output_type": "stream",
          "text": [
            "Enter an english word (Press Q to exit): yes\n",
            "The Spanish Translation of yes is si\n",
            "\n",
            "Enter an english word (Press Q to exit): no\n",
            "The Spanish Translation of no is no\n",
            "\n",
            "Enter an english word (Press Q to exit): Q\n",
            "Program ended. GoodBye!\n"
          ]
        }
      ],
      "source": [
        "#code here\n",
        "def Checker(word,translation_dictionary):\n",
        "  if word in translation_dictionary:\n",
        "    return translation_dictionary[word]\n",
        "  else:\n",
        "    return False\n",
        "\n",
        "translation_dictionary={\n",
        "    \"hello\":\"hola\",\n",
        "    \"cat\":\"gato\",\n",
        "    \"friend\":\"amigo\",\n",
        "    \"bye\":\"adios\",\n",
        "    \"class\":\"clase\",\n",
        "    \"teacher\":\"maestro\",\n",
        "    \"yes\":\"si\",\n",
        "    \"no\":\"no\"\n",
        "}\n",
        "\n",
        "while True:\n",
        "  word=input(\"Enter an english word (Press Q to exit): \")\n",
        "  word=word.lower()\n",
        "  if word==\"q\":\n",
        "    print(\"Program ended. GoodBye!\")\n",
        "    break\n",
        "  spanish_translation=Checker(word,translation_dictionary)\n",
        "  if spanish_translation:\n",
        "    print(\"The Spanish Translation of {} is {}\\n\".format(word,spanish_translation))\n",
        "  else:\n",
        "    print(\"The Spanish Translation of {} is not available in the dictionary\".format(word))"
      ]
    },
    {
      "cell_type": "markdown",
      "metadata": {
        "id": "h_8wOMWitspv"
      },
      "source": [
        "# Lab Task 04"
      ]
    },
    {
      "cell_type": "markdown",
      "metadata": {
        "id": "Qq4VH1Jkts32"
      },
      "source": [
        "dataset link : https://raw.githubusercontent.com/TirendazAcademy/PANDAS-TUTORIAL/main/DataSets/vgsalesGlobale.csv\n",
        "#Exercise\n",
        "Use the dataset of Game, we have explored earlier and perform following operations.\n",
        "\n",
        "* Calculate the total global sales for all games in the dataset.\n",
        "* Find the game with the highest global sales.\n",
        "* Determine the average sales for each region (NA_Sales, EU_Sales, JP_Sales, Other_Sales).\n",
        "* Find the top 5 most popular game genres based on global sales.\n",
        "* Calculate the total sales for each genre in each region and find the most popular genre in North America (NA_Sales).\n",
        "* Display last 10 rows.\n",
        "* Determine the top 3 gaming platforms with the highest global sales.\n",
        "* Calculate the market share (percentage of global sales) for each genre.\n",
        "* Calculate the correlation coefficient between NA_Sales and EU_Sales. (.corr function)"
      ]
    },
    {
      "cell_type": "code",
      "execution_count": 4,
      "metadata": {
        "colab": {
          "base_uri": "https://localhost:8080/",
          "height": 424
        },
        "id": "qfso_VwQ-m_z",
        "outputId": "b2066a1a-f5de-4be4-d4c6-c4586f7cb37d"
      },
      "outputs": [
        {
          "data": {
            "text/html": [
              "<div>\n",
              "<style scoped>\n",
              "    .dataframe tbody tr th:only-of-type {\n",
              "        vertical-align: middle;\n",
              "    }\n",
              "\n",
              "    .dataframe tbody tr th {\n",
              "        vertical-align: top;\n",
              "    }\n",
              "\n",
              "    .dataframe thead th {\n",
              "        text-align: right;\n",
              "    }\n",
              "</style>\n",
              "<table border=\"1\" class=\"dataframe\">\n",
              "  <thead>\n",
              "    <tr style=\"text-align: right;\">\n",
              "      <th></th>\n",
              "      <th>Rank</th>\n",
              "      <th>Name</th>\n",
              "      <th>Platform</th>\n",
              "      <th>Year</th>\n",
              "      <th>Genre</th>\n",
              "      <th>Publisher</th>\n",
              "      <th>NA_Sales</th>\n",
              "      <th>EU_Sales</th>\n",
              "      <th>JP_Sales</th>\n",
              "      <th>Other_Sales</th>\n",
              "      <th>Global_Sales</th>\n",
              "    </tr>\n",
              "  </thead>\n",
              "  <tbody>\n",
              "    <tr>\n",
              "      <th>0</th>\n",
              "      <td>1</td>\n",
              "      <td>Wii Sports</td>\n",
              "      <td>Wii</td>\n",
              "      <td>2006.0</td>\n",
              "      <td>Sports</td>\n",
              "      <td>Nintendo</td>\n",
              "      <td>41.49</td>\n",
              "      <td>29.02</td>\n",
              "      <td>3.77</td>\n",
              "      <td>8.46</td>\n",
              "      <td>82.74</td>\n",
              "    </tr>\n",
              "    <tr>\n",
              "      <th>1</th>\n",
              "      <td>2</td>\n",
              "      <td>Super Mario Bros.</td>\n",
              "      <td>NES</td>\n",
              "      <td>1985.0</td>\n",
              "      <td>Platform</td>\n",
              "      <td>Nintendo</td>\n",
              "      <td>29.08</td>\n",
              "      <td>3.58</td>\n",
              "      <td>6.81</td>\n",
              "      <td>0.77</td>\n",
              "      <td>40.24</td>\n",
              "    </tr>\n",
              "    <tr>\n",
              "      <th>2</th>\n",
              "      <td>3</td>\n",
              "      <td>Mario Kart Wii</td>\n",
              "      <td>Wii</td>\n",
              "      <td>2008.0</td>\n",
              "      <td>Racing</td>\n",
              "      <td>Nintendo</td>\n",
              "      <td>15.85</td>\n",
              "      <td>12.88</td>\n",
              "      <td>3.79</td>\n",
              "      <td>3.31</td>\n",
              "      <td>35.82</td>\n",
              "    </tr>\n",
              "    <tr>\n",
              "      <th>3</th>\n",
              "      <td>4</td>\n",
              "      <td>Wii Sports Resort</td>\n",
              "      <td>Wii</td>\n",
              "      <td>2009.0</td>\n",
              "      <td>Sports</td>\n",
              "      <td>Nintendo</td>\n",
              "      <td>15.75</td>\n",
              "      <td>11.01</td>\n",
              "      <td>3.28</td>\n",
              "      <td>2.96</td>\n",
              "      <td>33.00</td>\n",
              "    </tr>\n",
              "    <tr>\n",
              "      <th>4</th>\n",
              "      <td>5</td>\n",
              "      <td>Pokemon Red/Pokemon Blue</td>\n",
              "      <td>GB</td>\n",
              "      <td>1996.0</td>\n",
              "      <td>Role-Playing</td>\n",
              "      <td>Nintendo</td>\n",
              "      <td>11.27</td>\n",
              "      <td>8.89</td>\n",
              "      <td>10.22</td>\n",
              "      <td>1.00</td>\n",
              "      <td>31.37</td>\n",
              "    </tr>\n",
              "    <tr>\n",
              "      <th>...</th>\n",
              "      <td>...</td>\n",
              "      <td>...</td>\n",
              "      <td>...</td>\n",
              "      <td>...</td>\n",
              "      <td>...</td>\n",
              "      <td>...</td>\n",
              "      <td>...</td>\n",
              "      <td>...</td>\n",
              "      <td>...</td>\n",
              "      <td>...</td>\n",
              "      <td>...</td>\n",
              "    </tr>\n",
              "    <tr>\n",
              "      <th>16593</th>\n",
              "      <td>16596</td>\n",
              "      <td>Woody Woodpecker in Crazy Castle 5</td>\n",
              "      <td>GBA</td>\n",
              "      <td>2002.0</td>\n",
              "      <td>Platform</td>\n",
              "      <td>Kemco</td>\n",
              "      <td>0.01</td>\n",
              "      <td>0.00</td>\n",
              "      <td>0.00</td>\n",
              "      <td>0.00</td>\n",
              "      <td>0.01</td>\n",
              "    </tr>\n",
              "    <tr>\n",
              "      <th>16594</th>\n",
              "      <td>16597</td>\n",
              "      <td>Men in Black II: Alien Escape</td>\n",
              "      <td>GC</td>\n",
              "      <td>2003.0</td>\n",
              "      <td>Shooter</td>\n",
              "      <td>Infogrames</td>\n",
              "      <td>0.01</td>\n",
              "      <td>0.00</td>\n",
              "      <td>0.00</td>\n",
              "      <td>0.00</td>\n",
              "      <td>0.01</td>\n",
              "    </tr>\n",
              "    <tr>\n",
              "      <th>16595</th>\n",
              "      <td>16598</td>\n",
              "      <td>SCORE International Baja 1000: The Official Game</td>\n",
              "      <td>PS2</td>\n",
              "      <td>2008.0</td>\n",
              "      <td>Racing</td>\n",
              "      <td>Activision</td>\n",
              "      <td>0.00</td>\n",
              "      <td>0.00</td>\n",
              "      <td>0.00</td>\n",
              "      <td>0.00</td>\n",
              "      <td>0.01</td>\n",
              "    </tr>\n",
              "    <tr>\n",
              "      <th>16596</th>\n",
              "      <td>16599</td>\n",
              "      <td>Know How 2</td>\n",
              "      <td>DS</td>\n",
              "      <td>2010.0</td>\n",
              "      <td>Puzzle</td>\n",
              "      <td>7G//AMES</td>\n",
              "      <td>0.00</td>\n",
              "      <td>0.01</td>\n",
              "      <td>0.00</td>\n",
              "      <td>0.00</td>\n",
              "      <td>0.01</td>\n",
              "    </tr>\n",
              "    <tr>\n",
              "      <th>16597</th>\n",
              "      <td>16600</td>\n",
              "      <td>Spirits &amp; Spells</td>\n",
              "      <td>GBA</td>\n",
              "      <td>2003.0</td>\n",
              "      <td>Platform</td>\n",
              "      <td>Wanadoo</td>\n",
              "      <td>0.01</td>\n",
              "      <td>0.00</td>\n",
              "      <td>0.00</td>\n",
              "      <td>0.00</td>\n",
              "      <td>0.01</td>\n",
              "    </tr>\n",
              "  </tbody>\n",
              "</table>\n",
              "<p>16598 rows × 11 columns</p>\n",
              "</div>"
            ],
            "text/plain": [
              "        Rank                                              Name Platform  \\\n",
              "0          1                                        Wii Sports      Wii   \n",
              "1          2                                 Super Mario Bros.      NES   \n",
              "2          3                                    Mario Kart Wii      Wii   \n",
              "3          4                                 Wii Sports Resort      Wii   \n",
              "4          5                          Pokemon Red/Pokemon Blue       GB   \n",
              "...      ...                                               ...      ...   \n",
              "16593  16596                Woody Woodpecker in Crazy Castle 5      GBA   \n",
              "16594  16597                     Men in Black II: Alien Escape       GC   \n",
              "16595  16598  SCORE International Baja 1000: The Official Game      PS2   \n",
              "16596  16599                                        Know How 2       DS   \n",
              "16597  16600                                  Spirits & Spells      GBA   \n",
              "\n",
              "         Year         Genre   Publisher  NA_Sales  EU_Sales  JP_Sales  \\\n",
              "0      2006.0        Sports    Nintendo     41.49     29.02      3.77   \n",
              "1      1985.0      Platform    Nintendo     29.08      3.58      6.81   \n",
              "2      2008.0        Racing    Nintendo     15.85     12.88      3.79   \n",
              "3      2009.0        Sports    Nintendo     15.75     11.01      3.28   \n",
              "4      1996.0  Role-Playing    Nintendo     11.27      8.89     10.22   \n",
              "...       ...           ...         ...       ...       ...       ...   \n",
              "16593  2002.0      Platform       Kemco      0.01      0.00      0.00   \n",
              "16594  2003.0       Shooter  Infogrames      0.01      0.00      0.00   \n",
              "16595  2008.0        Racing  Activision      0.00      0.00      0.00   \n",
              "16596  2010.0        Puzzle    7G//AMES      0.00      0.01      0.00   \n",
              "16597  2003.0      Platform     Wanadoo      0.01      0.00      0.00   \n",
              "\n",
              "       Other_Sales  Global_Sales  \n",
              "0             8.46         82.74  \n",
              "1             0.77         40.24  \n",
              "2             3.31         35.82  \n",
              "3             2.96         33.00  \n",
              "4             1.00         31.37  \n",
              "...            ...           ...  \n",
              "16593         0.00          0.01  \n",
              "16594         0.00          0.01  \n",
              "16595         0.00          0.01  \n",
              "16596         0.00          0.01  \n",
              "16597         0.00          0.01  \n",
              "\n",
              "[16598 rows x 11 columns]"
            ]
          },
          "execution_count": 4,
          "metadata": {},
          "output_type": "execute_result"
        }
      ],
      "source": [
        "import pandas as pd\n",
        "url='https://raw.githubusercontent.com/TirendazAcademy/PANDAS-TUTORIAL/main/DataSets/vgsalesGlobale.csv'\n",
        "df=pd.read_csv(url)\n",
        "df\n"
      ]
    },
    {
      "cell_type": "code",
      "execution_count": 5,
      "metadata": {
        "colab": {
          "base_uri": "https://localhost:8080/"
        },
        "id": "Cwi-dq50_U1b",
        "outputId": "b4e29eb8-f35f-46db-b39b-e32227fe06c6"
      },
      "outputs": [
        {
          "name": "stdout",
          "output_type": "stream",
          "text": [
            "Sum of Global Sales: 8920.44\n"
          ]
        }
      ],
      "source": [
        "# Calculate the total global sales for all games in the dataset.\n",
        "global_sales=df['Global_Sales'].sum()\n",
        "print(\"Sum of Global Sales: {}\".format(global_sales))"
      ]
    },
    {
      "cell_type": "code",
      "execution_count": 7,
      "metadata": {
        "id": "ozTCuCtN_jtz"
      },
      "outputs": [
        {
          "name": "stdout",
          "output_type": "stream",
          "text": [
            "Game with highest Global Sales: Rank                     1\n",
            "Name            Wii Sports\n",
            "Platform               Wii\n",
            "Year                2006.0\n",
            "Genre               Sports\n",
            "Publisher         Nintendo\n",
            "NA_Sales             41.49\n",
            "EU_Sales             29.02\n",
            "JP_Sales              3.77\n",
            "Other_Sales           8.46\n",
            "Global_Sales         82.74\n",
            "Name: 0, dtype: object\n"
          ]
        }
      ],
      "source": [
        "# Find the game with the highest global sales.\n",
        "highest_idx=df['Global_Sales'].idxmax()\n",
        "highest_game=df.loc[highest_idx]\n",
        "print(\"Game with highest Global Sales: {}\".format(highest_game))"
      ]
    },
    {
      "cell_type": "code",
      "execution_count": 9,
      "metadata": {},
      "outputs": [
        {
          "name": "stdout",
          "output_type": "stream",
          "text": [
            "Average sales for each region:\n",
            "NA_Sales       0.264667\n",
            "EU_Sales       0.146652\n",
            "JP_Sales       0.077782\n",
            "Other_Sales    0.048063\n",
            "dtype: float64\n"
          ]
        }
      ],
      "source": [
        "# Determine the average sales for each region (NA_Sales, EU_Sales, JP_Sales, Other_Sales).\n",
        "avg_sales = df[['NA_Sales','EU_Sales', 'JP_Sales','Other_Sales']].mean()\n",
        "print(\"Average sales for each region:\")\n",
        "print(avg_sales)"
      ]
    },
    {
      "cell_type": "code",
      "execution_count": 10,
      "metadata": {},
      "outputs": [
        {
          "name": "stdout",
          "output_type": "stream",
          "text": [
            "Top 5 Genres based on Global Sales: Genre\n",
            "Action          1751.18\n",
            "Sports          1330.93\n",
            "Shooter         1037.37\n",
            "Role-Playing     927.37\n",
            "Platform         831.37\n",
            "Name: Global_Sales, dtype: float64\n"
          ]
        }
      ],
      "source": [
        "# Find the top 5 most popular game genres based on global sales.\n",
        "grouped_genre=df.groupby('Genre')['Global_Sales'].sum()\n",
        "top5_genre=grouped_genre.nlargest(5)\n",
        "print(\"Top 5 Genres based on Global Sales: {}\".format(top5_genre))"
      ]
    },
    {
      "cell_type": "code",
      "execution_count": 13,
      "metadata": {},
      "outputs": [
        {
          "name": "stdout",
          "output_type": "stream",
          "text": [
            "Most popular genre in North America (NA_Sales): Action\n"
          ]
        }
      ],
      "source": [
        "# Calculate the total sales for each genre in each region and find the most popular genre in North America (NA_Sales).\n",
        "total_sales=df.groupby(\"Genre\")[['NA_Sales','EU_Sales','JP_Sales','Other_Sales']].sum()\n",
        "popular_genre =total_sales['NA_Sales'].idxmax()\n",
        "print(\"Most popular genre in North America (NA_Sales):\",popular_genre)\n"
      ]
    },
    {
      "cell_type": "code",
      "execution_count": 14,
      "metadata": {},
      "outputs": [
        {
          "data": {
            "text/html": [
              "<div>\n",
              "<style scoped>\n",
              "    .dataframe tbody tr th:only-of-type {\n",
              "        vertical-align: middle;\n",
              "    }\n",
              "\n",
              "    .dataframe tbody tr th {\n",
              "        vertical-align: top;\n",
              "    }\n",
              "\n",
              "    .dataframe thead th {\n",
              "        text-align: right;\n",
              "    }\n",
              "</style>\n",
              "<table border=\"1\" class=\"dataframe\">\n",
              "  <thead>\n",
              "    <tr style=\"text-align: right;\">\n",
              "      <th></th>\n",
              "      <th>Rank</th>\n",
              "      <th>Name</th>\n",
              "      <th>Platform</th>\n",
              "      <th>Year</th>\n",
              "      <th>Genre</th>\n",
              "      <th>Publisher</th>\n",
              "      <th>NA_Sales</th>\n",
              "      <th>EU_Sales</th>\n",
              "      <th>JP_Sales</th>\n",
              "      <th>Other_Sales</th>\n",
              "      <th>Global_Sales</th>\n",
              "    </tr>\n",
              "  </thead>\n",
              "  <tbody>\n",
              "    <tr>\n",
              "      <th>16588</th>\n",
              "      <td>16591</td>\n",
              "      <td>Mega Brain Boost</td>\n",
              "      <td>DS</td>\n",
              "      <td>2008.0</td>\n",
              "      <td>Puzzle</td>\n",
              "      <td>Majesco Entertainment</td>\n",
              "      <td>0.01</td>\n",
              "      <td>0.00</td>\n",
              "      <td>0.00</td>\n",
              "      <td>0.0</td>\n",
              "      <td>0.01</td>\n",
              "    </tr>\n",
              "    <tr>\n",
              "      <th>16589</th>\n",
              "      <td>16592</td>\n",
              "      <td>Chou Ezaru wa Akai Hana: Koi wa Tsuki ni Shiru...</td>\n",
              "      <td>PSV</td>\n",
              "      <td>2016.0</td>\n",
              "      <td>Action</td>\n",
              "      <td>dramatic create</td>\n",
              "      <td>0.00</td>\n",
              "      <td>0.00</td>\n",
              "      <td>0.01</td>\n",
              "      <td>0.0</td>\n",
              "      <td>0.01</td>\n",
              "    </tr>\n",
              "    <tr>\n",
              "      <th>16590</th>\n",
              "      <td>16593</td>\n",
              "      <td>Eiyuu Densetsu: Sora no Kiseki Material Collec...</td>\n",
              "      <td>PSP</td>\n",
              "      <td>2007.0</td>\n",
              "      <td>Role-Playing</td>\n",
              "      <td>Falcom Corporation</td>\n",
              "      <td>0.00</td>\n",
              "      <td>0.00</td>\n",
              "      <td>0.01</td>\n",
              "      <td>0.0</td>\n",
              "      <td>0.01</td>\n",
              "    </tr>\n",
              "    <tr>\n",
              "      <th>16591</th>\n",
              "      <td>16594</td>\n",
              "      <td>Myst IV: Revelation</td>\n",
              "      <td>PC</td>\n",
              "      <td>2004.0</td>\n",
              "      <td>Adventure</td>\n",
              "      <td>Ubisoft</td>\n",
              "      <td>0.01</td>\n",
              "      <td>0.00</td>\n",
              "      <td>0.00</td>\n",
              "      <td>0.0</td>\n",
              "      <td>0.01</td>\n",
              "    </tr>\n",
              "    <tr>\n",
              "      <th>16592</th>\n",
              "      <td>16595</td>\n",
              "      <td>Plushees</td>\n",
              "      <td>DS</td>\n",
              "      <td>2008.0</td>\n",
              "      <td>Simulation</td>\n",
              "      <td>Destineer</td>\n",
              "      <td>0.01</td>\n",
              "      <td>0.00</td>\n",
              "      <td>0.00</td>\n",
              "      <td>0.0</td>\n",
              "      <td>0.01</td>\n",
              "    </tr>\n",
              "    <tr>\n",
              "      <th>16593</th>\n",
              "      <td>16596</td>\n",
              "      <td>Woody Woodpecker in Crazy Castle 5</td>\n",
              "      <td>GBA</td>\n",
              "      <td>2002.0</td>\n",
              "      <td>Platform</td>\n",
              "      <td>Kemco</td>\n",
              "      <td>0.01</td>\n",
              "      <td>0.00</td>\n",
              "      <td>0.00</td>\n",
              "      <td>0.0</td>\n",
              "      <td>0.01</td>\n",
              "    </tr>\n",
              "    <tr>\n",
              "      <th>16594</th>\n",
              "      <td>16597</td>\n",
              "      <td>Men in Black II: Alien Escape</td>\n",
              "      <td>GC</td>\n",
              "      <td>2003.0</td>\n",
              "      <td>Shooter</td>\n",
              "      <td>Infogrames</td>\n",
              "      <td>0.01</td>\n",
              "      <td>0.00</td>\n",
              "      <td>0.00</td>\n",
              "      <td>0.0</td>\n",
              "      <td>0.01</td>\n",
              "    </tr>\n",
              "    <tr>\n",
              "      <th>16595</th>\n",
              "      <td>16598</td>\n",
              "      <td>SCORE International Baja 1000: The Official Game</td>\n",
              "      <td>PS2</td>\n",
              "      <td>2008.0</td>\n",
              "      <td>Racing</td>\n",
              "      <td>Activision</td>\n",
              "      <td>0.00</td>\n",
              "      <td>0.00</td>\n",
              "      <td>0.00</td>\n",
              "      <td>0.0</td>\n",
              "      <td>0.01</td>\n",
              "    </tr>\n",
              "    <tr>\n",
              "      <th>16596</th>\n",
              "      <td>16599</td>\n",
              "      <td>Know How 2</td>\n",
              "      <td>DS</td>\n",
              "      <td>2010.0</td>\n",
              "      <td>Puzzle</td>\n",
              "      <td>7G//AMES</td>\n",
              "      <td>0.00</td>\n",
              "      <td>0.01</td>\n",
              "      <td>0.00</td>\n",
              "      <td>0.0</td>\n",
              "      <td>0.01</td>\n",
              "    </tr>\n",
              "    <tr>\n",
              "      <th>16597</th>\n",
              "      <td>16600</td>\n",
              "      <td>Spirits &amp; Spells</td>\n",
              "      <td>GBA</td>\n",
              "      <td>2003.0</td>\n",
              "      <td>Platform</td>\n",
              "      <td>Wanadoo</td>\n",
              "      <td>0.01</td>\n",
              "      <td>0.00</td>\n",
              "      <td>0.00</td>\n",
              "      <td>0.0</td>\n",
              "      <td>0.01</td>\n",
              "    </tr>\n",
              "  </tbody>\n",
              "</table>\n",
              "</div>"
            ],
            "text/plain": [
              "        Rank                                               Name Platform  \\\n",
              "16588  16591                                   Mega Brain Boost       DS   \n",
              "16589  16592  Chou Ezaru wa Akai Hana: Koi wa Tsuki ni Shiru...      PSV   \n",
              "16590  16593  Eiyuu Densetsu: Sora no Kiseki Material Collec...      PSP   \n",
              "16591  16594                                Myst IV: Revelation       PC   \n",
              "16592  16595                                           Plushees       DS   \n",
              "16593  16596                 Woody Woodpecker in Crazy Castle 5      GBA   \n",
              "16594  16597                      Men in Black II: Alien Escape       GC   \n",
              "16595  16598   SCORE International Baja 1000: The Official Game      PS2   \n",
              "16596  16599                                         Know How 2       DS   \n",
              "16597  16600                                   Spirits & Spells      GBA   \n",
              "\n",
              "         Year         Genre              Publisher  NA_Sales  EU_Sales  \\\n",
              "16588  2008.0        Puzzle  Majesco Entertainment      0.01      0.00   \n",
              "16589  2016.0        Action        dramatic create      0.00      0.00   \n",
              "16590  2007.0  Role-Playing     Falcom Corporation      0.00      0.00   \n",
              "16591  2004.0     Adventure                Ubisoft      0.01      0.00   \n",
              "16592  2008.0    Simulation              Destineer      0.01      0.00   \n",
              "16593  2002.0      Platform                  Kemco      0.01      0.00   \n",
              "16594  2003.0       Shooter             Infogrames      0.01      0.00   \n",
              "16595  2008.0        Racing             Activision      0.00      0.00   \n",
              "16596  2010.0        Puzzle               7G//AMES      0.00      0.01   \n",
              "16597  2003.0      Platform                Wanadoo      0.01      0.00   \n",
              "\n",
              "       JP_Sales  Other_Sales  Global_Sales  \n",
              "16588      0.00          0.0          0.01  \n",
              "16589      0.01          0.0          0.01  \n",
              "16590      0.01          0.0          0.01  \n",
              "16591      0.00          0.0          0.01  \n",
              "16592      0.00          0.0          0.01  \n",
              "16593      0.00          0.0          0.01  \n",
              "16594      0.00          0.0          0.01  \n",
              "16595      0.00          0.0          0.01  \n",
              "16596      0.00          0.0          0.01  \n",
              "16597      0.00          0.0          0.01  "
            ]
          },
          "execution_count": 14,
          "metadata": {},
          "output_type": "execute_result"
        }
      ],
      "source": [
        "# Display last 10 rows.\n",
        "last_rows=df.tail(10)\n",
        "last_rows"
      ]
    },
    {
      "cell_type": "code",
      "execution_count": 15,
      "metadata": {},
      "outputs": [
        {
          "name": "stdout",
          "output_type": "stream",
          "text": [
            "Top 3 Gaming platforms with highest Global Sales: Platform\n",
            "PS2     1255.64\n",
            "X360     979.96\n",
            "PS3      957.84\n",
            "Name: Global_Sales, dtype: float64\n"
          ]
        }
      ],
      "source": [
        "# Determine the top 3 gaming platforms with the highest global sales.\n",
        "grouped_platforms=df.groupby('Platform')['Global_Sales'].sum()\n",
        "top3_platforms=grouped_platforms.nlargest(3)\n",
        "print(\"Top 3 Gaming platforms with highest Global Sales: {}\".format(top3_platforms))"
      ]
    },
    {
      "cell_type": "code",
      "execution_count": 19,
      "metadata": {},
      "outputs": [
        {
          "name": "stdout",
          "output_type": "stream",
          "text": [
            "Market Share for each genre: Genre\n",
            "Action          19.631094\n",
            "Adventure        2.679688\n",
            "Fighting         5.032375\n",
            "Misc             9.079821\n",
            "Platform         9.319832\n",
            "Puzzle           2.745941\n",
            "Racing           8.206322\n",
            "Role-Playing    10.396012\n",
            "Shooter         11.629135\n",
            "Simulation       4.396644\n",
            "Sports          14.920004\n",
            "Strategy         1.963132\n",
            "Name: Global_Sales, dtype: float64\n"
          ]
        }
      ],
      "source": [
        "# Calculate the market share (percentage of global sales) for each genre.\n",
        "grouped_genre=df.groupby('Genre')['Global_Sales'].sum()\n",
        "global_sales=df['Global_Sales'].sum()\n",
        "market_share=(grouped_genre/global_sales)*100\n",
        "print(\"Market Share for each genre: {}\".format(market_share))"
      ]
    },
    {
      "cell_type": "markdown",
      "metadata": {
        "id": "b9WEL8JcZFfY"
      },
      "source": [
        "Some tree example"
      ]
    },
    {
      "cell_type": "code",
      "execution_count": 20,
      "metadata": {},
      "outputs": [
        {
          "name": "stdout",
          "output_type": "stream",
          "text": [
            "Correlation of cofficient between NA Sales and EU Sales: 0.7677267483702634\n"
          ]
        }
      ],
      "source": [
        "# Calculate the correlation coefficient between NA_Sales and EU_Sales. (.corr function)\n",
        "corr_coefficient=df['NA_Sales'].corr(df['EU_Sales'])\n",
        "print(\"Correlation of cofficient between NA Sales and EU Sales: {}\".format(corr_coefficient))"
      ]
    },
    {
      "cell_type": "code",
      "execution_count": null,
      "metadata": {
        "id": "re3_ijh12uCi"
      },
      "outputs": [],
      "source": [
        "# import pandas as pd\n",
        "\n",
        "# # Create a DataFrame to represent a tree\n",
        "# data = {\n",
        "#     'node': ['A', 'B', 'C', 'D', 'E', 'F'],\n",
        "#     'parent': [None, 'A', 'A', 'B', 'B', 'C']\n",
        "# }\n",
        "# df = pd.DataFrame(data)\n",
        "\n",
        "# print(df)\n"
      ]
    },
    {
      "cell_type": "code",
      "execution_count": null,
      "metadata": {
        "id": "4eYXGm0c2yAl"
      },
      "outputs": [],
      "source": [
        "# pip install networkx\n"
      ]
    },
    {
      "cell_type": "code",
      "execution_count": null,
      "metadata": {
        "id": "QBd8dZTF224G"
      },
      "outputs": [],
      "source": [
        "# import pandas as pd\n",
        "# import networkx as nx\n",
        "# import matplotlib.pyplot as plt\n",
        "\n",
        "# # Create a DataFrame representing edges in a graph\n",
        "# data = {\n",
        "#     'from': ['A', 'A', 'B', 'C', 'D'],\n",
        "#     'to': ['B', 'C', 'D', 'E', 'E']\n",
        "# }\n",
        "# edges = pd.DataFrame(data)\n",
        "\n",
        "# # Create a graph from the edges DataFrame\n",
        "# G = nx.from_pandas_edgelist(edges, 'from', 'to')\n",
        "\n",
        "# # Draw the graph\n",
        "# nx.draw(G, with_labels=True)\n",
        "# plt.show()\n",
        "\n",
        "# # Analyze the graph\n",
        "# print(\"Nodes:\", G.nodes())\n",
        "# print(\"Edges:\", G.edges())\n",
        "# print(\"Degree for each Node:\", dict(G.degree()))\n"
      ]
    }
  ],
  "metadata": {
    "colab": {
      "provenance": []
    },
    "kernelspec": {
      "display_name": "Python 3",
      "name": "python3"
    },
    "language_info": {
      "codemirror_mode": {
        "name": "ipython",
        "version": 3
      },
      "file_extension": ".py",
      "mimetype": "text/x-python",
      "name": "python",
      "nbconvert_exporter": "python",
      "pygments_lexer": "ipython3",
      "version": "3.11.4"
    }
  },
  "nbformat": 4,
  "nbformat_minor": 0
}
